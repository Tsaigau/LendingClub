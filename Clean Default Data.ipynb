{
 "cells": [
  {
   "cell_type": "code",
   "execution_count": 2,
   "metadata": {
    "scrolled": true
   },
   "outputs": [],
   "source": [
    "library(dplyr)\n",
    "library(ggplot2)\n",
    "library(readr)\n",
    "library(data.table)"
   ]
  },
  {
   "cell_type": "code",
   "execution_count": 3,
   "metadata": {},
   "outputs": [],
   "source": [
    "rd <- fread(\"D:\\\\Lending Club\\\\Accepted Data.csv\")"
   ]
  },
  {
   "cell_type": "code",
   "execution_count": 4,
   "metadata": {},
   "outputs": [],
   "source": [
    "result <- rd[,c('addr_state', 'annual_inc', 'application_type', 'dti', 'earliest_cr_line', 'emp_length', 'emp_title', 'fico_range_high'\n",
    " , 'fico_range_low', 'grade', 'home_ownership', 'id', 'initial_list_status', 'installment', 'int_rate', 'issue_d'\n",
    " , 'loan_amnt', 'loan_status', 'mort_acc', 'open_acc', 'pub_rec', 'pub_rec_bankruptcies', 'purpose'\n",
    " , 'revol_bal', 'revol_util', 'sub_grade', 'term', 'title', 'total_acc', 'verification_status', 'zip_code')]\n",
    "\n"
   ]
  },
  {
   "cell_type": "code",
   "execution_count": 5,
   "metadata": {},
   "outputs": [
    {
     "name": "stdout",
     "output_type": "stream",
     "text": [
      "Classes 'data.table' and 'data.frame':\t2260701 obs. of  31 variables:\n",
      " $ addr_state          : chr  \"PA\" \"SD\" \"IL\" \"NJ\" ...\n",
      " $ annual_inc          : num  55000 65000 63000 110000 104433 ...\n",
      " $ application_type    : chr  \"Individual\" \"Individual\" \"Joint App\" \"Individual\" ...\n",
      " $ dti                 : num  5.91 16.06 10.78 17.06 25.37 ...\n",
      " $ earliest_cr_line    : chr  \"Aug-2003\" \"Dec-1999\" \"Aug-2000\" \"Sep-2008\" ...\n",
      " $ emp_length          : chr  \"10+ years\" \"10+ years\" \"10+ years\" \"10+ years\" ...\n",
      " $ emp_title           : chr  \"leadman\" \"Engineer\" \"truck driver\" \"Information Systems Officer\" ...\n",
      " $ fico_range_high     : int  679 719 699 789 699 694 684 709 689 704 ...\n",
      " $ fico_range_low      : int  675 715 695 785 695 690 680 705 685 700 ...\n",
      " $ grade               : chr  \"C\" \"C\" \"B\" \"C\" ...\n",
      " $ home_ownership      : chr  \"MORTGAGE\" \"MORTGAGE\" \"MORTGAGE\" \"MORTGAGE\" ...\n",
      " $ id                  : chr  \"68407277\" \"68355089\" \"68341763\" \"66310712\" ...\n",
      " $ initial_list_status : chr  \"w\" \"w\" \"w\" \"w\" ...\n",
      " $ installment         : num  123 820 433 830 290 ...\n",
      " $ int_rate            : num  14 12 10.8 14.8 22.4 ...\n",
      " $ issue_d             : chr  \"Dec-2015\" \"Dec-2015\" \"Dec-2015\" \"Dec-2015\" ...\n",
      " $ loan_amnt           : int  3600 24700 20000 35000 10400 11950 20000 20000 10000 8000 ...\n",
      " $ loan_status         : chr  \"Fully Paid\" \"Fully Paid\" \"Fully Paid\" \"Current\" ...\n",
      " $ mort_acc            : int  1 4 5 1 6 0 4 3 1 1 ...\n",
      " $ open_acc            : int  7 22 6 13 12 5 12 8 14 8 ...\n",
      " $ pub_rec             : int  0 0 0 0 0 0 0 0 1 0 ...\n",
      " $ pub_rec_bankruptcies: int  0 0 0 0 0 0 0 0 1 0 ...\n",
      " $ purpose             : chr  \"debt_consolidation\" \"small_business\" \"home_improvement\" \"debt_consolidation\" ...\n",
      " $ revol_bal           : num  2765 21470 7869 7802 21929 ...\n",
      " $ revol_util          : num  29.7 19.2 56.2 11.6 64.5 68.4 84.5 5.7 34.5 39.1 ...\n",
      " $ sub_grade           : chr  \"C4\" \"C1\" \"B4\" \"C5\" ...\n",
      " $ term                : chr  \"36 months\" \"36 months\" \"60 months\" \"60 months\" ...\n",
      " $ title               : chr  \"Debt consolidation\" \"Business\" \"\" \"Debt consolidation\" ...\n",
      " $ total_acc           : int  13 38 18 17 35 6 27 15 23 18 ...\n",
      " $ verification_status : chr  \"Not Verified\" \"Not Verified\" \"Not Verified\" \"Source Verified\" ...\n",
      " $ zip_code            : chr  \"190xx\" \"577xx\" \"605xx\" \"076xx\" ...\n",
      " - attr(*, \".internal.selfref\")=<externalptr> \n"
     ]
    }
   ],
   "source": [
    "str(result)\n",
    "check <- c('addr_state', 'annual_inc', 'application_type', 'dti', 'earliest_cr_line', 'emp_length', 'emp_title', 'fico_range_high'\n",
    " , 'fico_range_low', 'grade', 'home_ownership', 'id', 'initial_list_status', 'installment', 'int_rate', 'issue_d'\n",
    " , 'loan_amnt', 'loan_status', 'mort_acc', 'open_acc', 'pub_rec', 'pub_rec_bankruptcies', 'purpose'\n",
    " , 'revol_bal', 'revol_util', 'sub_grade', 'term', 'title', 'total_acc', 'verification_status', 'zip_code')"
   ]
  },
  {
   "cell_type": "code",
   "execution_count": 6,
   "metadata": {},
   "outputs": [
    {
     "data": {
      "text/html": [
       "<ol class=list-inline>\n",
       "\t<li>TRUE</li>\n",
       "\t<li>TRUE</li>\n",
       "\t<li>TRUE</li>\n",
       "\t<li>TRUE</li>\n",
       "\t<li>TRUE</li>\n",
       "\t<li>TRUE</li>\n",
       "\t<li>TRUE</li>\n",
       "\t<li>TRUE</li>\n",
       "\t<li>TRUE</li>\n",
       "\t<li>TRUE</li>\n",
       "\t<li>TRUE</li>\n",
       "\t<li>TRUE</li>\n",
       "\t<li>TRUE</li>\n",
       "\t<li>TRUE</li>\n",
       "\t<li>TRUE</li>\n",
       "\t<li>TRUE</li>\n",
       "\t<li>TRUE</li>\n",
       "\t<li>TRUE</li>\n",
       "\t<li>TRUE</li>\n",
       "\t<li>TRUE</li>\n",
       "\t<li>TRUE</li>\n",
       "\t<li>TRUE</li>\n",
       "\t<li>TRUE</li>\n",
       "\t<li>TRUE</li>\n",
       "\t<li>TRUE</li>\n",
       "\t<li>TRUE</li>\n",
       "\t<li>TRUE</li>\n",
       "\t<li>TRUE</li>\n",
       "\t<li>TRUE</li>\n",
       "\t<li>TRUE</li>\n",
       "\t<li>TRUE</li>\n",
       "</ol>\n"
      ],
      "text/latex": [
       "\\begin{enumerate*}\n",
       "\\item TRUE\n",
       "\\item TRUE\n",
       "\\item TRUE\n",
       "\\item TRUE\n",
       "\\item TRUE\n",
       "\\item TRUE\n",
       "\\item TRUE\n",
       "\\item TRUE\n",
       "\\item TRUE\n",
       "\\item TRUE\n",
       "\\item TRUE\n",
       "\\item TRUE\n",
       "\\item TRUE\n",
       "\\item TRUE\n",
       "\\item TRUE\n",
       "\\item TRUE\n",
       "\\item TRUE\n",
       "\\item TRUE\n",
       "\\item TRUE\n",
       "\\item TRUE\n",
       "\\item TRUE\n",
       "\\item TRUE\n",
       "\\item TRUE\n",
       "\\item TRUE\n",
       "\\item TRUE\n",
       "\\item TRUE\n",
       "\\item TRUE\n",
       "\\item TRUE\n",
       "\\item TRUE\n",
       "\\item TRUE\n",
       "\\item TRUE\n",
       "\\end{enumerate*}\n"
      ],
      "text/markdown": [
       "1. TRUE\n",
       "2. TRUE\n",
       "3. TRUE\n",
       "4. TRUE\n",
       "5. TRUE\n",
       "6. TRUE\n",
       "7. TRUE\n",
       "8. TRUE\n",
       "9. TRUE\n",
       "10. TRUE\n",
       "11. TRUE\n",
       "12. TRUE\n",
       "13. TRUE\n",
       "14. TRUE\n",
       "15. TRUE\n",
       "16. TRUE\n",
       "17. TRUE\n",
       "18. TRUE\n",
       "19. TRUE\n",
       "20. TRUE\n",
       "21. TRUE\n",
       "22. TRUE\n",
       "23. TRUE\n",
       "24. TRUE\n",
       "25. TRUE\n",
       "26. TRUE\n",
       "27. TRUE\n",
       "28. TRUE\n",
       "29. TRUE\n",
       "30. TRUE\n",
       "31. TRUE\n",
       "\n",
       "\n"
      ],
      "text/plain": [
       " [1] TRUE TRUE TRUE TRUE TRUE TRUE TRUE TRUE TRUE TRUE TRUE TRUE TRUE TRUE TRUE\n",
       "[16] TRUE TRUE TRUE TRUE TRUE TRUE TRUE TRUE TRUE TRUE TRUE TRUE TRUE TRUE TRUE\n",
       "[31] TRUE"
      ]
     },
     "metadata": {},
     "output_type": "display_data"
    }
   ],
   "source": [
    "colnames(result) == check "
   ]
  },
  {
   "cell_type": "code",
   "execution_count": 7,
   "metadata": {},
   "outputs": [],
   "source": [
    "fwrite(result,\"D:\\\\Lending Club\\\\Default.csv\")"
   ]
  },
  {
   "cell_type": "code",
   "execution_count": null,
   "metadata": {},
   "outputs": [],
   "source": [
    "tb <- table(result$emp_title)"
   ]
  },
  {
   "cell_type": "code",
   "execution_count": null,
   "metadata": {},
   "outputs": [],
   "source": [
    "tb2 <- tb[tb>5000]\n",
    "wordcloud(names(tb2),tb2,colors=brewer.pal(5,\"Dark2\"),scale = c(20,.4)) +\n",
    "    title(\"employed title counted over 6000\")"
   ]
  },
  {
   "cell_type": "code",
   "execution_count": null,
   "metadata": {},
   "outputs": [],
   "source": [
    "table(result$grade)"
   ]
  },
  {
   "cell_type": "code",
   "execution_count": null,
   "metadata": {},
   "outputs": [],
   "source": [
    "table(result$sub_grade)"
   ]
  },
  {
   "cell_type": "code",
   "execution_count": null,
   "metadata": {},
   "outputs": [],
   "source": [
    "ggplot(result,aes(x = sub_grade,fill = grade))+\n",
    "    geom_bar()+\n",
    "    coord_flip()\n"
   ]
  },
  {
   "cell_type": "code",
   "execution_count": null,
   "metadata": {},
   "outputs": [],
   "source": []
  }
 ],
 "metadata": {
  "kernelspec": {
   "display_name": "R",
   "language": "R",
   "name": "ir"
  },
  "language_info": {
   "codemirror_mode": "r",
   "file_extension": ".r",
   "mimetype": "text/x-r-source",
   "name": "R",
   "pygments_lexer": "r",
   "version": "3.5.1"
  }
 },
 "nbformat": 4,
 "nbformat_minor": 2
}
